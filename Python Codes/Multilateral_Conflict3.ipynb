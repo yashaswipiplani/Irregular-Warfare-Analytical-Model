{
  "nbformat": 4,
  "nbformat_minor": 0,
  "metadata": {
    "colab": {
      "name": "Multilateral Conflict Final.ipynb",
      "provenance": []
    },
    "kernelspec": {
      "name": "python3",
      "display_name": "Python 3"
    },
    "language_info": {
      "name": "python"
    }
  },
  "cells": [
    {
      "cell_type": "code",
      "execution_count": 13,
      "metadata": {
        "id": "FhMuLVFCamWM"
      },
      "outputs": [],
      "source": [
        "import numpy as np\n",
        "from scipy.integrate import odeint\n",
        "import matplotlib.pyplot as plt\n",
        "import numpy as np\n",
        "B0 = 1000000\n",
        "R0 = 650000\n",
        "G0 = 300000"
      ]
    },
    {
      "cell_type": "code",
      "source": [
        " def model(y ,t):\n",
        "  B=y[0]\n",
        "  R=y[1]\n",
        "  G=y[2]\n",
        "  Br=0.8; Bg=0.3; Db=0.6; Dg=0.4; Yb=0.55; Yr=0.7;   \n",
        "  f0 = - (Br*B)/(Br*B+Yr*G)*Db*R - (Bg*B)/(Bg*B+Dg*R)*Yb*G \n",
        "  f1 = - (Db*R)/(Db*R+Yb*G)*Br*B - (Dg*R)/(Dg*R+Bg*B)*Yr*G \n",
        "  f2 = - (Yb*G)/(Yb*G+Db*R)*Bg*B - (Yr*G)/(Yr*G+Br*B)*Dg*R \n",
        "  if B <= 0 and f0 <= 0:\n",
        "    B = 0\n",
        "    f0 = 0\n",
        "  if R <= 0 and f1 <= 0:\n",
        "    R = 0\n",
        "    f1 = 0\n",
        "  if G <= 0 and f2 <= 0:\n",
        "    G = 0\n",
        "    f2 = 0\n",
        "  return [f0, f1, f2]\n"
      ],
      "metadata": {
        "id": "FFUSgFUqasHH"
      },
      "execution_count": 14,
      "outputs": []
    },
    {
      "cell_type": "code",
      "source": [
        "y0 = [B0, R0, G0]\n",
        "\n",
        "t = np.linspace(0, 5., 1000)\n",
        "\n",
        "soln = odeint(model, y0, t)\n",
        "B = soln[:, 0]\n",
        "R = soln[:, 1]\n",
        "G = soln[:, 2]\n",
        "\n",
        "plt.figure()\n",
        "plt.figure(figsize =(10,5))\n",
        "plt.plot(t, B, label = \"B\", color = \"blue\")\n",
        "plt.plot(t, R, label = \"R\", color = \"red\")\n",
        "plt.plot(t, G, label = \"G\", color = \"green\")\n",
        "plt.legend(loc = 0)"
      ],
      "metadata": {
        "id": "LVJ2mGI3a0In",
        "colab": {
          "base_uri": "https://localhost:8080/",
          "height": 366
        },
        "outputId": "c7654521-dd49-4c03-8cfb-e1dcc24ead99"
      },
      "execution_count": 15,
      "outputs": [
        {
          "output_type": "execute_result",
          "data": {
            "text/plain": [
              "<matplotlib.legend.Legend at 0x7f59452e9ed0>"
            ]
          },
          "metadata": {},
          "execution_count": 15
        },
        {
          "output_type": "display_data",
          "data": {
            "text/plain": [
              "<Figure size 432x288 with 0 Axes>"
            ]
          },
          "metadata": {}
        },
        {
          "output_type": "display_data",
          "data": {
            "text/plain": [
              "<Figure size 720x360 with 1 Axes>"
            ],
            "image/png": "[encoded data removed]"
          },
          "metadata": {
            "needs_background": "light"
          }
        }
      ]
    }
  ]
}