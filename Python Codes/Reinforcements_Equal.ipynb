{
  "nbformat": 4,
  "nbformat_minor": 0,
  "metadata": {
    "colab": {
      "name": "Reinforcements_Equal.ipynb",
      "provenance": []
    },
    "kernelspec": {
      "name": "python3",
      "display_name": "Python 3"
    },
    "language_info": {
      "name": "python"
    }
  },
  "cells": [
    {
      "cell_type": "code",
      "execution_count": 50,
      "metadata": {
        "id": "iz7P8P9Cb7Kr"
      },
      "outputs": [],
      "source": [
        "import numpy as np\n",
        "from scipy.integrate import odeint\n",
        "import matplotlib.pyplot as plt\n",
        "import numpy as np\n",
        "B0 = 10000\n",
        "R0 = 10000"
      ]
    },
    {
      "cell_type": "code",
      "source": [
        "def model(y ,t):\n",
        "  B=y[0]\n",
        "  R=y[1]\n",
        "  a=0.3; g=0.00015; u1=0.00008; u2=0.00007; s=0.7; d=0.000003; \n",
        "  f0 = -a*R -g*R*B + u1*R*(B0-B) \n",
        "  f1 = -s*B -d*R*B +u2*B*(R0-R)\n",
        "  if B <= 0 and f0 <= 0:\n",
        "    B = 0\n",
        "    f0 = 0\n",
        "  if R <= 0 and f1 <= 0:\n",
        "    R = 0\n",
        "    f1 = 0\n",
        "  return [f0, f1]"
      ],
      "metadata": {
        "id": "4fqRXbrZeRGy"
      },
      "execution_count": 51,
      "outputs": []
    },
    {
      "cell_type": "code",
      "source": [
        "y0 = [B0, R0]\n",
        "t = np.linspace(0, 20., 1000)\n",
        "\n",
        "soln = odeint(model, y0, t)\n",
        "B = soln[:, 0]\n",
        "R = soln[:, 1]\n",
        "\n",
        "plt.figure()\n",
        "plt.figure(figsize =(10,5))\n",
        "plt.plot(t, B, label = \"B\", color = \"blue\")\n",
        "plt.plot(t, R, label = \"R\", color = \"red\")\n",
        "plt.legend(loc = 0)"
      ],
      "metadata": {
        "colab": {
          "base_uri": "https://localhost:8080/",
          "height": 355
        },
        "id": "C_ctNKGSf9Pu",
        "outputId": "8fdca754-4b06-4c8a-aa3f-26176f39ce76"
      },
      "execution_count": 52,
      "outputs": [
        {
          "output_type": "execute_result",
          "data": {
            "text/plain": [
              "<matplotlib.legend.Legend at 0x7f66aa70ac50>"
            ]
          },
          "metadata": {},
          "execution_count": 52
        },
        {
          "output_type": "display_data",
          "data": {
            "text/plain": [
              "<Figure size 432x288 with 0 Axes>"
            ]
          },
          "metadata": {}
        },
        {
          "output_type": "display_data",
          "data": {
            "text/plain": [
              "<Figure size 720x360 with 1 Axes>"
            ],
            "image/png": "[encoded data removed]"
          },
          "metadata": {
            "needs_background": "light"
          }
        }
      ]
    }
  ]
}